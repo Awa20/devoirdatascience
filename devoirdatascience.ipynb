{
 "cells": [
  {
   "cell_type": "markdown",
   "id": "e9239667-c501-47a9-acec-03249f029b6c",
   "metadata": {},
   "source": [
    "A:reponse par vrai ou faux\n",
    "1.faux :parce que apres creation on peut modifier le contenu\n",
    "2.faux:les index peuvent etre differents types\n",
    "3.faux:iloc permet d'acceder aux donnees par leur index numerique\n",
    "4.vrai:car python est un langage de typage dynamique\n",
    "5.vrai:car le code peut etre executé ligne par ligne en utiisant un interpreteur\n",
    "\n",
    "B:reponse aux questions:\n",
    "1.une liste est mutable utilisant des syntaxe avec crochet alors qu'un tuple est nom modifiable utilise syntaxe avec parenthese\n",
    "2.iloc permet d'acceder aux données par leur index numerique alors que pour loc permetd'acceder aux donnees par les etiquettes(label)\n",
    "3.la bibliotheque c'est la ou se trouve les methodes et les fonctions dans python permettant d'effectuer les taches.exemple:numpy et Matplotlib\n",
    "4.une serie est un tableau unidimensionnelle alors qu'un dataframe est un tableau à 2dimensions\n",
    "5.les differents types d'analyse de données sont:analyse descriptive,analyse predictive,analyse prescriptive,analyse diagnostique "
   ]
  },
  {
   "cell_type": "code",
   "execution_count": 166,
   "id": "13e5192c-7e08-4385-8b42-9dcea376b117",
   "metadata": {},
   "outputs": [],
   "source": [
    "#importation de numpy et panda, ensuite chargement du dossier csv\n",
    "import numpy as ny\n",
    "import pandas as pd \n",
    "da=pd.read_csv('C:\\\\Users\\\\LENOVO\\\\Desktop\\\\python\\\\all_data_2025.csv')"
   ]
  },
  {
   "cell_type": "code",
   "execution_count": 168,
   "id": "2e72d859-5eaa-4493-b52b-d238deb70925",
   "metadata": {},
   "outputs": [
    {
     "data": {
      "text/plain": [
       "<bound method DataFrame.info of        Order ID                 Product Quantity Ordered Price Each  \\\n",
       "0        295665      Macbook Pro Laptop                1       1700   \n",
       "1        295666      LG Washing Machine                1      600.0   \n",
       "2        295667    USB-C Charging Cable                1      11.95   \n",
       "3        295668        27in FHD Monitor                1     149.99   \n",
       "4        295669    USB-C Charging Cable                1      11.95   \n",
       "...         ...                     ...              ...        ...   \n",
       "186845   222905  AAA Batteries (4-pack)                1       2.99   \n",
       "186846   222906        27in FHD Monitor                1     149.99   \n",
       "186847   222907    USB-C Charging Cable                1      11.95   \n",
       "186848   222908    USB-C Charging Cable                1      11.95   \n",
       "186849   222909  AAA Batteries (4-pack)                1       2.99   \n",
       "\n",
       "            Order Date                        Purchase Address  \n",
       "0       12/30/19 00:01  136 Church St, New York City, NY 10001  \n",
       "1       12/29/19 07:03     562 2nd St, New York City, NY 10001  \n",
       "2       12/12/19 18:21    277 Main St, New York City, NY 10001  \n",
       "3       12/22/19 15:13     410 6th St, San Francisco, CA 94016  \n",
       "4       12/18/19 12:38           43 Hill St, Atlanta, GA 30301  \n",
       "...                ...                                     ...  \n",
       "186845  06/07/19 19:02           795 Pine St, Boston, MA 02215  \n",
       "186846  06/01/19 19:29   495 North St, New York City, NY 10001  \n",
       "186847  06/22/19 18:57   319 Ridge St, San Francisco, CA 94016  \n",
       "186848  06/26/19 18:35    916 Main St, San Francisco, CA 94016  \n",
       "186849  06/25/19 14:33          209 11th St, Atlanta, GA 30301  \n",
       "\n",
       "[186850 rows x 6 columns]>"
      ]
     },
     "execution_count": 168,
     "metadata": {},
     "output_type": "execute_result"
    }
   ],
   "source": [
    "#affichange des informations\n",
    "da.info"
   ]
  },
  {
   "cell_type": "code",
   "execution_count": 170,
   "id": "bd8002aa-a543-4c60-907c-f0fddc826e0e",
   "metadata": {},
   "outputs": [
    {
     "data": {
      "text/plain": [
       "Order ID            object\n",
       "Product             object\n",
       "Quantity Ordered    object\n",
       "Price Each          object\n",
       "Order Date          object\n",
       "Purchase Address    object\n",
       "dtype: object"
      ]
     },
     "execution_count": 170,
     "metadata": {},
     "output_type": "execute_result"
    }
   ],
   "source": [
    "#affichage des type des colone\n",
    "da.dtypes"
   ]
  },
  {
   "cell_type": "code",
   "execution_count": 172,
   "id": "32991f5d-7c64-4a5e-a1dc-9a0032caf700",
   "metadata": {},
   "outputs": [
    {
     "data": {
      "text/plain": [
       "178438"
      ]
     },
     "execution_count": 172,
     "metadata": {},
     "output_type": "execute_result"
    }
   ],
   "source": [
    "#comptage du nombre de valeur unique \n",
    "da['Order ID'].nunique()"
   ]
  },
  {
   "cell_type": "code",
   "execution_count": 174,
   "id": "982810e6-b913-4aa8-adf9-bdebcb53df44",
   "metadata": {},
   "outputs": [],
   "source": [
    "#suppression des entetes repetees\n",
    "mask=da['Order ID']!='Order ID'"
   ]
  },
  {
   "cell_type": "code",
   "execution_count": 176,
   "id": "129ff565-1a0d-43cb-bfb7-45a1bc9427da",
   "metadata": {},
   "outputs": [],
   "source": [
    "#stockage dan un nouvelle variable qu'on vas utiliser reste du devoir\n",
    "danew=da[mask]"
   ]
  },
  {
   "cell_type": "code",
   "execution_count": 178,
   "id": "278ef6d6-7e31-454c-bd2c-33aaf1b21fe7",
   "metadata": {},
   "outputs": [
    {
     "name": "stdout",
     "output_type": "stream",
     "text": [
      "<class 'pandas.core.frame.DataFrame'>\n",
      "Index: 186495 entries, 0 to 186849\n",
      "Data columns (total 6 columns):\n",
      " #   Column            Non-Null Count   Dtype \n",
      "---  ------            --------------   ----- \n",
      " 0   Order ID          185950 non-null  object\n",
      " 1   Product           185950 non-null  object\n",
      " 2   Quantity Ordered  185950 non-null  object\n",
      " 3   Price Each        185950 non-null  object\n",
      " 4   Order Date        185950 non-null  object\n",
      " 5   Purchase Address  185950 non-null  object\n",
      "dtypes: object(6)\n",
      "memory usage: 10.0+ MB\n"
     ]
    }
   ],
   "source": [
    "#affichage des info du nouvelle dataframe\n",
    "danew.info()"
   ]
  },
  {
   "cell_type": "code",
   "execution_count": 180,
   "id": "c4175b4d-170f-49e9-978d-21ca773311b1",
   "metadata": {},
   "outputs": [
    {
     "data": {
      "text/plain": [
       "Order ID            545\n",
       "Product             545\n",
       "Quantity Ordered    545\n",
       "Price Each          545\n",
       "Order Date          545\n",
       "Purchase Address    545\n",
       "dtype: int64"
      ]
     },
     "execution_count": 180,
     "metadata": {},
     "output_type": "execute_result"
    }
   ],
   "source": [
    "#sommer les valeur manquante\n",
    "danew.isna().sum()"
   ]
  },
  {
   "cell_type": "code",
   "execution_count": 182,
   "id": "57d9258d-6925-48f2-80f7-c6c0bad623be",
   "metadata": {},
   "outputs": [
    {
     "data": {
      "text/html": [
       "<div>\n",
       "<style scoped>\n",
       "    .dataframe tbody tr th:only-of-type {\n",
       "        vertical-align: middle;\n",
       "    }\n",
       "\n",
       "    .dataframe tbody tr th {\n",
       "        vertical-align: top;\n",
       "    }\n",
       "\n",
       "    .dataframe thead th {\n",
       "        text-align: right;\n",
       "    }\n",
       "</style>\n",
       "<table border=\"1\" class=\"dataframe\">\n",
       "  <thead>\n",
       "    <tr style=\"text-align: right;\">\n",
       "      <th></th>\n",
       "      <th>Order ID</th>\n",
       "      <th>Product</th>\n",
       "      <th>Quantity Ordered</th>\n",
       "      <th>Price Each</th>\n",
       "      <th>Order Date</th>\n",
       "      <th>Purchase Address</th>\n",
       "    </tr>\n",
       "  </thead>\n",
       "  <tbody>\n",
       "    <tr>\n",
       "      <th>0</th>\n",
       "      <td>NaN</td>\n",
       "      <td>NaN</td>\n",
       "      <td>NaN</td>\n",
       "      <td>NaN</td>\n",
       "      <td>NaN</td>\n",
       "      <td>NaN</td>\n",
       "    </tr>\n",
       "    <tr>\n",
       "      <th>1</th>\n",
       "      <td>NaN</td>\n",
       "      <td>NaN</td>\n",
       "      <td>NaN</td>\n",
       "      <td>NaN</td>\n",
       "      <td>NaN</td>\n",
       "      <td>NaN</td>\n",
       "    </tr>\n",
       "    <tr>\n",
       "      <th>2</th>\n",
       "      <td>NaN</td>\n",
       "      <td>NaN</td>\n",
       "      <td>NaN</td>\n",
       "      <td>NaN</td>\n",
       "      <td>NaN</td>\n",
       "      <td>NaN</td>\n",
       "    </tr>\n",
       "    <tr>\n",
       "      <th>3</th>\n",
       "      <td>NaN</td>\n",
       "      <td>NaN</td>\n",
       "      <td>NaN</td>\n",
       "      <td>NaN</td>\n",
       "      <td>NaN</td>\n",
       "      <td>NaN</td>\n",
       "    </tr>\n",
       "    <tr>\n",
       "      <th>4</th>\n",
       "      <td>NaN</td>\n",
       "      <td>NaN</td>\n",
       "      <td>NaN</td>\n",
       "      <td>NaN</td>\n",
       "      <td>NaN</td>\n",
       "      <td>NaN</td>\n",
       "    </tr>\n",
       "    <tr>\n",
       "      <th>...</th>\n",
       "      <td>...</td>\n",
       "      <td>...</td>\n",
       "      <td>...</td>\n",
       "      <td>...</td>\n",
       "      <td>...</td>\n",
       "      <td>...</td>\n",
       "    </tr>\n",
       "    <tr>\n",
       "      <th>186845</th>\n",
       "      <td>NaN</td>\n",
       "      <td>NaN</td>\n",
       "      <td>NaN</td>\n",
       "      <td>NaN</td>\n",
       "      <td>NaN</td>\n",
       "      <td>NaN</td>\n",
       "    </tr>\n",
       "    <tr>\n",
       "      <th>186846</th>\n",
       "      <td>NaN</td>\n",
       "      <td>NaN</td>\n",
       "      <td>NaN</td>\n",
       "      <td>NaN</td>\n",
       "      <td>NaN</td>\n",
       "      <td>NaN</td>\n",
       "    </tr>\n",
       "    <tr>\n",
       "      <th>186847</th>\n",
       "      <td>NaN</td>\n",
       "      <td>NaN</td>\n",
       "      <td>NaN</td>\n",
       "      <td>NaN</td>\n",
       "      <td>NaN</td>\n",
       "      <td>NaN</td>\n",
       "    </tr>\n",
       "    <tr>\n",
       "      <th>186848</th>\n",
       "      <td>NaN</td>\n",
       "      <td>NaN</td>\n",
       "      <td>NaN</td>\n",
       "      <td>NaN</td>\n",
       "      <td>NaN</td>\n",
       "      <td>NaN</td>\n",
       "    </tr>\n",
       "    <tr>\n",
       "      <th>186849</th>\n",
       "      <td>NaN</td>\n",
       "      <td>NaN</td>\n",
       "      <td>NaN</td>\n",
       "      <td>NaN</td>\n",
       "      <td>NaN</td>\n",
       "      <td>NaN</td>\n",
       "    </tr>\n",
       "  </tbody>\n",
       "</table>\n",
       "<p>186495 rows × 6 columns</p>\n",
       "</div>"
      ],
      "text/plain": [
       "       Order ID Product Quantity Ordered Price Each Order Date  \\\n",
       "0           NaN     NaN              NaN        NaN        NaN   \n",
       "1           NaN     NaN              NaN        NaN        NaN   \n",
       "2           NaN     NaN              NaN        NaN        NaN   \n",
       "3           NaN     NaN              NaN        NaN        NaN   \n",
       "4           NaN     NaN              NaN        NaN        NaN   \n",
       "...         ...     ...              ...        ...        ...   \n",
       "186845      NaN     NaN              NaN        NaN        NaN   \n",
       "186846      NaN     NaN              NaN        NaN        NaN   \n",
       "186847      NaN     NaN              NaN        NaN        NaN   \n",
       "186848      NaN     NaN              NaN        NaN        NaN   \n",
       "186849      NaN     NaN              NaN        NaN        NaN   \n",
       "\n",
       "       Purchase Address  \n",
       "0                   NaN  \n",
       "1                   NaN  \n",
       "2                   NaN  \n",
       "3                   NaN  \n",
       "4                   NaN  \n",
       "...                 ...  \n",
       "186845              NaN  \n",
       "186846              NaN  \n",
       "186847              NaN  \n",
       "186848              NaN  \n",
       "186849              NaN  \n",
       "\n",
       "[186495 rows x 6 columns]"
      ]
     },
     "execution_count": 182,
     "metadata": {},
     "output_type": "execute_result"
    }
   ],
   "source": [
    "danew[danew.isna()]"
   ]
  },
  {
   "cell_type": "code",
   "execution_count": 184,
   "id": "6e550cd7-e0e3-42fb-a434-18a3158fee55",
   "metadata": {},
   "outputs": [
    {
     "data": {
      "text/html": [
       "<div>\n",
       "<style scoped>\n",
       "    .dataframe tbody tr th:only-of-type {\n",
       "        vertical-align: middle;\n",
       "    }\n",
       "\n",
       "    .dataframe tbody tr th {\n",
       "        vertical-align: top;\n",
       "    }\n",
       "\n",
       "    .dataframe thead th {\n",
       "        text-align: right;\n",
       "    }\n",
       "</style>\n",
       "<table border=\"1\" class=\"dataframe\">\n",
       "  <thead>\n",
       "    <tr style=\"text-align: right;\">\n",
       "      <th></th>\n",
       "      <th>Order ID</th>\n",
       "      <th>Product</th>\n",
       "      <th>Quantity Ordered</th>\n",
       "      <th>Price Each</th>\n",
       "      <th>Order Date</th>\n",
       "      <th>Purchase Address</th>\n",
       "    </tr>\n",
       "  </thead>\n",
       "  <tbody>\n",
       "    <tr>\n",
       "      <th>0</th>\n",
       "      <td>295665</td>\n",
       "      <td>Macbook Pro Laptop</td>\n",
       "      <td>1</td>\n",
       "      <td>1700</td>\n",
       "      <td>12/30/19 00:01</td>\n",
       "      <td>136 Church St, New York City, NY 10001</td>\n",
       "    </tr>\n",
       "    <tr>\n",
       "      <th>1</th>\n",
       "      <td>295666</td>\n",
       "      <td>LG Washing Machine</td>\n",
       "      <td>1</td>\n",
       "      <td>600.0</td>\n",
       "      <td>12/29/19 07:03</td>\n",
       "      <td>562 2nd St, New York City, NY 10001</td>\n",
       "    </tr>\n",
       "    <tr>\n",
       "      <th>2</th>\n",
       "      <td>295667</td>\n",
       "      <td>USB-C Charging Cable</td>\n",
       "      <td>1</td>\n",
       "      <td>11.95</td>\n",
       "      <td>12/12/19 18:21</td>\n",
       "      <td>277 Main St, New York City, NY 10001</td>\n",
       "    </tr>\n",
       "    <tr>\n",
       "      <th>3</th>\n",
       "      <td>295668</td>\n",
       "      <td>27in FHD Monitor</td>\n",
       "      <td>1</td>\n",
       "      <td>149.99</td>\n",
       "      <td>12/22/19 15:13</td>\n",
       "      <td>410 6th St, San Francisco, CA 94016</td>\n",
       "    </tr>\n",
       "    <tr>\n",
       "      <th>4</th>\n",
       "      <td>295669</td>\n",
       "      <td>USB-C Charging Cable</td>\n",
       "      <td>1</td>\n",
       "      <td>11.95</td>\n",
       "      <td>12/18/19 12:38</td>\n",
       "      <td>43 Hill St, Atlanta, GA 30301</td>\n",
       "    </tr>\n",
       "    <tr>\n",
       "      <th>...</th>\n",
       "      <td>...</td>\n",
       "      <td>...</td>\n",
       "      <td>...</td>\n",
       "      <td>...</td>\n",
       "      <td>...</td>\n",
       "      <td>...</td>\n",
       "    </tr>\n",
       "    <tr>\n",
       "      <th>186845</th>\n",
       "      <td>222905</td>\n",
       "      <td>AAA Batteries (4-pack)</td>\n",
       "      <td>1</td>\n",
       "      <td>2.99</td>\n",
       "      <td>06/07/19 19:02</td>\n",
       "      <td>795 Pine St, Boston, MA 02215</td>\n",
       "    </tr>\n",
       "    <tr>\n",
       "      <th>186846</th>\n",
       "      <td>222906</td>\n",
       "      <td>27in FHD Monitor</td>\n",
       "      <td>1</td>\n",
       "      <td>149.99</td>\n",
       "      <td>06/01/19 19:29</td>\n",
       "      <td>495 North St, New York City, NY 10001</td>\n",
       "    </tr>\n",
       "    <tr>\n",
       "      <th>186847</th>\n",
       "      <td>222907</td>\n",
       "      <td>USB-C Charging Cable</td>\n",
       "      <td>1</td>\n",
       "      <td>11.95</td>\n",
       "      <td>06/22/19 18:57</td>\n",
       "      <td>319 Ridge St, San Francisco, CA 94016</td>\n",
       "    </tr>\n",
       "    <tr>\n",
       "      <th>186848</th>\n",
       "      <td>222908</td>\n",
       "      <td>USB-C Charging Cable</td>\n",
       "      <td>1</td>\n",
       "      <td>11.95</td>\n",
       "      <td>06/26/19 18:35</td>\n",
       "      <td>916 Main St, San Francisco, CA 94016</td>\n",
       "    </tr>\n",
       "    <tr>\n",
       "      <th>186849</th>\n",
       "      <td>222909</td>\n",
       "      <td>AAA Batteries (4-pack)</td>\n",
       "      <td>1</td>\n",
       "      <td>2.99</td>\n",
       "      <td>06/25/19 14:33</td>\n",
       "      <td>209 11th St, Atlanta, GA 30301</td>\n",
       "    </tr>\n",
       "  </tbody>\n",
       "</table>\n",
       "<p>185950 rows × 6 columns</p>\n",
       "</div>"
      ],
      "text/plain": [
       "       Order ID                 Product Quantity Ordered Price Each  \\\n",
       "0        295665      Macbook Pro Laptop                1       1700   \n",
       "1        295666      LG Washing Machine                1      600.0   \n",
       "2        295667    USB-C Charging Cable                1      11.95   \n",
       "3        295668        27in FHD Monitor                1     149.99   \n",
       "4        295669    USB-C Charging Cable                1      11.95   \n",
       "...         ...                     ...              ...        ...   \n",
       "186845   222905  AAA Batteries (4-pack)                1       2.99   \n",
       "186846   222906        27in FHD Monitor                1     149.99   \n",
       "186847   222907    USB-C Charging Cable                1      11.95   \n",
       "186848   222908    USB-C Charging Cable                1      11.95   \n",
       "186849   222909  AAA Batteries (4-pack)                1       2.99   \n",
       "\n",
       "            Order Date                        Purchase Address  \n",
       "0       12/30/19 00:01  136 Church St, New York City, NY 10001  \n",
       "1       12/29/19 07:03     562 2nd St, New York City, NY 10001  \n",
       "2       12/12/19 18:21    277 Main St, New York City, NY 10001  \n",
       "3       12/22/19 15:13     410 6th St, San Francisco, CA 94016  \n",
       "4       12/18/19 12:38           43 Hill St, Atlanta, GA 30301  \n",
       "...                ...                                     ...  \n",
       "186845  06/07/19 19:02           795 Pine St, Boston, MA 02215  \n",
       "186846  06/01/19 19:29   495 North St, New York City, NY 10001  \n",
       "186847  06/22/19 18:57   319 Ridge St, San Francisco, CA 94016  \n",
       "186848  06/26/19 18:35    916 Main St, San Francisco, CA 94016  \n",
       "186849  06/25/19 14:33          209 11th St, Atlanta, GA 30301  \n",
       "\n",
       "[185950 rows x 6 columns]"
      ]
     },
     "execution_count": 184,
     "metadata": {},
     "output_type": "execute_result"
    }
   ],
   "source": [
    "#suppression des valeur manquante\n",
    "danew.dropna()"
   ]
  },
  {
   "cell_type": "code",
   "execution_count": 186,
   "id": "6ea738b3-4fd3-472a-a247-26dc4283e93c",
   "metadata": {},
   "outputs": [],
   "source": [
    "#stocker les donnees supprimer daans une nvlle variable\n",
    "danew=danew.dropna()"
   ]
  },
  {
   "cell_type": "code",
   "execution_count": 188,
   "id": "805fe33a-bf56-43b6-a2f7-2bbc85061604",
   "metadata": {},
   "outputs": [
    {
     "data": {
      "text/plain": [
       "Order ID            0\n",
       "Product             0\n",
       "Quantity Ordered    0\n",
       "Price Each          0\n",
       "Order Date          0\n",
       "Purchase Address    0\n",
       "dtype: int64"
      ]
     },
     "execution_count": 188,
     "metadata": {},
     "output_type": "execute_result"
    }
   ],
   "source": [
    "#sommer les valeur manquante pour verifier si c'est nettoyer\n",
    "danew.isna().sum()"
   ]
  },
  {
   "cell_type": "code",
   "execution_count": 31,
   "id": "cb29dbcf-07c0-4289-93f0-e9a6bcb24989",
   "metadata": {},
   "outputs": [
    {
     "data": {
      "text/plain": [
       "Order ID            object\n",
       "Product             object\n",
       "Quantity Ordered    object\n",
       "Price Each          object\n",
       "Order Date          object\n",
       "Purchase Address    object\n",
       "dtype: object"
      ]
     },
     "execution_count": 31,
     "metadata": {},
     "output_type": "execute_result"
    }
   ],
   "source": [
    "danew.dtypes"
   ]
  },
  {
   "cell_type": "code",
   "execution_count": 190,
   "id": "75732d85-8373-4b8f-beee-ae0b72e3437c",
   "metadata": {},
   "outputs": [
    {
     "name": "stderr",
     "output_type": "stream",
     "text": [
      "C:\\Users\\LENOVO\\AppData\\Local\\Temp\\ipykernel_3868\\1219812794.py:2: UserWarning: Could not infer format, so each element will be parsed individually, falling back to `dateutil`. To ensure parsing is consistent and as-expected, please specify a format.\n",
      "  danew['Order Date']=pd.to_datetime(danew['Order Date'])\n"
     ]
    }
   ],
   "source": [
    "#conertir order date en type datetime\n",
    "danew['Order Date']=pd.to_datetime(danew['Order Date'])"
   ]
  },
  {
   "cell_type": "code",
   "execution_count": 192,
   "id": "865bee18-1908-4203-8d1d-3c1706fef9ff",
   "metadata": {},
   "outputs": [
    {
     "data": {
      "text/plain": [
       "Order ID                    object\n",
       "Product                     object\n",
       "Quantity Ordered            object\n",
       "Price Each                  object\n",
       "Order Date          datetime64[ns]\n",
       "Purchase Address            object\n",
       "dtype: object"
      ]
     },
     "execution_count": 192,
     "metadata": {},
     "output_type": "execute_result"
    }
   ],
   "source": [
    "#verifier si la conversion est appliquer\n",
    "danew.dtypes"
   ]
  },
  {
   "cell_type": "code",
   "execution_count": 194,
   "id": "8335cc63-cb9f-4ea3-b257-34f7f30e461c",
   "metadata": {},
   "outputs": [],
   "source": [
    "#convertir quantity ordered en type entier\n",
    "danew['Quantity Ordered']=danew['Quantity Ordered'].astype('int')"
   ]
  },
  {
   "cell_type": "code",
   "execution_count": 196,
   "id": "e0185d38-6d1d-40d1-8431-ab09eef5ae19",
   "metadata": {},
   "outputs": [
    {
     "data": {
      "text/plain": [
       "Order ID                    object\n",
       "Product                     object\n",
       "Quantity Ordered             int32\n",
       "Price Each                  object\n",
       "Order Date          datetime64[ns]\n",
       "Purchase Address            object\n",
       "dtype: object"
      ]
     },
     "execution_count": 196,
     "metadata": {},
     "output_type": "execute_result"
    }
   ],
   "source": [
    "#verifier si la conversion est appliquer\n",
    "danew.dtypes"
   ]
  },
  {
   "cell_type": "code",
   "execution_count": 198,
   "id": "7ff2d516-bd46-4b42-b931-f2ed4f0e66e7",
   "metadata": {},
   "outputs": [
    {
     "data": {
      "text/plain": [
       "Index(['Order ID', 'Product', 'Quantity Ordered', 'Price Each', 'Order Date',\n",
       "       'Purchase Address'],\n",
       "      dtype='object')"
      ]
     },
     "execution_count": 198,
     "metadata": {},
     "output_type": "execute_result"
    }
   ],
   "source": [
    "#affichage des colones\n",
    "danew.columns"
   ]
  },
  {
   "cell_type": "code",
   "execution_count": 200,
   "id": "2156622d-a3e1-4b71-aa19-c30d3b718686",
   "metadata": {},
   "outputs": [],
   "source": [
    "#convertir Price Each en type float\n",
    "danew['Price Each']=danew['Price Each'].astype('float')"
   ]
  },
  {
   "cell_type": "code",
   "execution_count": 202,
   "id": "f87d752c-8c64-44c4-829b-a4b9d041af01",
   "metadata": {},
   "outputs": [
    {
     "data": {
      "text/plain": [
       "Order ID                    object\n",
       "Product                     object\n",
       "Quantity Ordered             int32\n",
       "Price Each                 float64\n",
       "Order Date          datetime64[ns]\n",
       "Purchase Address            object\n",
       "dtype: object"
      ]
     },
     "execution_count": 202,
     "metadata": {},
     "output_type": "execute_result"
    }
   ],
   "source": [
    "#verifier type changer\n",
    "danew.dtypes"
   ]
  },
  {
   "cell_type": "code",
   "execution_count": 204,
   "id": "7013e904-efb0-47da-838b-c18ed19e45b6",
   "metadata": {},
   "outputs": [
    {
     "data": {
      "text/plain": [
       "0         12\n",
       "1         12\n",
       "2         12\n",
       "3         12\n",
       "4         12\n",
       "          ..\n",
       "186845     6\n",
       "186846     6\n",
       "186847     6\n",
       "186848     6\n",
       "186849     6\n",
       "Name: Order Date, Length: 185950, dtype: int32"
      ]
     },
     "execution_count": 204,
     "metadata": {},
     "output_type": "execute_result"
    }
   ],
   "source": [
    "#extraire le mois sous forme de nombre entier\n",
    "danew['Order Date'].dt.month"
   ]
  },
  {
   "cell_type": "code",
   "execution_count": 206,
   "id": "53c80ab6-f48f-4005-b3d0-74c8478f6566",
   "metadata": {},
   "outputs": [],
   "source": [
    "#ajout du colone mois\n",
    "danew['mois']=danew['Order Date'].dt.month"
   ]
  },
  {
   "cell_type": "code",
   "execution_count": 208,
   "id": "6e74cf26-df5a-4f7c-baff-e6c5a9ddd189",
   "metadata": {},
   "outputs": [
    {
     "data": {
      "text/plain": [
       "Index(['Order ID', 'Product', 'Quantity Ordered', 'Price Each', 'Order Date',\n",
       "       'Purchase Address', 'mois'],\n",
       "      dtype='object')"
      ]
     },
     "execution_count": 208,
     "metadata": {},
     "output_type": "execute_result"
    }
   ],
   "source": [
    "#verifier si mois s'affiche\n",
    "danew.columns"
   ]
  },
  {
   "cell_type": "code",
   "execution_count": 54,
   "id": "fa2ad885-bdb2-4c94-9855-4741380dbcd9",
   "metadata": {},
   "outputs": [
    {
     "name": "stdout",
     "output_type": "stream",
     "text": [
      "12 ieme mois est le mois qui a plus de ventes\n"
     ]
    }
   ],
   "source": [
    "#on separe les mois par categorie\n",
    "mois=danew.groupby('mois')['Quantity Ordered'].sum().idxmax()\n",
    "print(mois,'ieme mois est le mois qui a plus de ventes')"
   ]
  },
  {
   "cell_type": "code",
   "execution_count": 210,
   "id": "8fed7806-32b5-491a-86d7-2f381cefafd7",
   "metadata": {},
   "outputs": [
    {
     "data": {
      "image/png": "[encoded data removed]",
      "text/plain": [
       "<Figure size 640x480 with 1 Axes>"
      ]
     },
     "metadata": {},
     "output_type": "display_data"
    }
   ],
   "source": [
    "#afficher le mois sous forme histogramme\n",
    "mois=danew.groupby('mois')['Quantity Ordered'].sum().hist()"
   ]
  },
  {
   "cell_type": "code",
   "execution_count": 212,
   "id": "aac51818-cfb3-4c9a-ad87-081eb062068e",
   "metadata": {},
   "outputs": [
    {
     "data": {
      "image/png": "[encoded data removed]",
      "text/plain": [
       "<Figure size 640x480 with 1 Axes>"
      ]
     },
     "metadata": {},
     "output_type": "display_data"
    }
   ],
   "source": [
    "#afficher le mois sous forme de diagramme en barre\n",
    "mois=danew.groupby('mois')['Quantity Ordered'].sum().plot(kind='bar')"
   ]
  },
  {
   "cell_type": "code",
   "execution_count": 214,
   "id": "2b593db3-46f5-4685-b569-c16c17b53f72",
   "metadata": {},
   "outputs": [],
   "source": [
    "#ajout du colone chiffre d'affaire en le calculant\n",
    "danew['chiffre daffaire']=((danew['Quantity Ordered'])*(danew['Price Each']))"
   ]
  },
  {
   "cell_type": "code",
   "execution_count": 216,
   "id": "f34acaa9-8dde-4fd0-8f8c-850c02dc276e",
   "metadata": {},
   "outputs": [
    {
     "data": {
      "text/plain": [
       "0         1700.00\n",
       "1          600.00\n",
       "2           11.95\n",
       "3          149.99\n",
       "4           11.95\n",
       "           ...   \n",
       "186845       2.99\n",
       "186846     149.99\n",
       "186847      11.95\n",
       "186848      11.95\n",
       "186849       2.99\n",
       "Name: chiffre daffaire, Length: 185950, dtype: float64"
      ]
     },
     "execution_count": 216,
     "metadata": {},
     "output_type": "execute_result"
    }
   ],
   "source": [
    "#afficher la colone chiffre d'affaire\n",
    "danew['chiffre daffaire']"
   ]
  },
  {
   "cell_type": "code",
   "execution_count": 62,
   "id": "a74713d9-ce51-4b74-aaa8-469760a8c739",
   "metadata": {},
   "outputs": [
    {
     "name": "stdout",
     "output_type": "stream",
     "text": [
      "<class 'pandas.core.frame.DataFrame'>\n",
      "Index: 185950 entries, 0 to 186849\n",
      "Data columns (total 8 columns):\n",
      " #   Column            Non-Null Count   Dtype         \n",
      "---  ------            --------------   -----         \n",
      " 0   Order ID          185950 non-null  object        \n",
      " 1   Product           185950 non-null  object        \n",
      " 2   Quantity Ordered  185950 non-null  int32         \n",
      " 3   Price Each        185950 non-null  float64       \n",
      " 4   Order Date        185950 non-null  datetime64[ns]\n",
      " 5   Purchase Address  185950 non-null  object        \n",
      " 6   mois              185950 non-null  int32         \n",
      " 7   chiffre daffaire  185950 non-null  float64       \n",
      "dtypes: datetime64[ns](1), float64(2), int32(2), object(3)\n",
      "memory usage: 11.3+ MB\n"
     ]
    }
   ],
   "source": [
    "danew.info()"
   ]
  },
  {
   "cell_type": "code",
   "execution_count": 218,
   "id": "289d628d-67ca-41f0-b2de-e9154806a8ed",
   "metadata": {},
   "outputs": [
    {
     "name": "stdout",
     "output_type": "stream",
     "text": [
      "12 est le mois qui a plus de vente avec une chiffre daffaire de 4613443.34\n"
     ]
    }
   ],
   "source": [
    "#afficher le mois qui a plus de vente et la valeur du chiffre d'affaire maximal\n",
    "moisplusdevente=danew.groupby('mois')['chiffre daffaire'].sum().idxmax()\n",
    "chifresdaffaire=danew.groupby('mois')['chiffre daffaire'].sum().max()\n",
    "print(moisplusdevente,'est le mois qui a plus de vente avec une chiffre daffaire de',chifresdaffaire)"
   ]
  },
  {
   "cell_type": "code",
   "execution_count": 220,
   "id": "9e09163e-0059-4587-b63e-586a9dd7fefc",
   "metadata": {},
   "outputs": [
    {
     "data": {
      "text/plain": [
       "0         136 Church St, New York City, NY 10001\n",
       "1            562 2nd St, New York City, NY 10001\n",
       "2           277 Main St, New York City, NY 10001\n",
       "3            410 6th St, San Francisco, CA 94016\n",
       "4                  43 Hill St, Atlanta, GA 30301\n",
       "                           ...                  \n",
       "186845             795 Pine St, Boston, MA 02215\n",
       "186846     495 North St, New York City, NY 10001\n",
       "186847     319 Ridge St, San Francisco, CA 94016\n",
       "186848      916 Main St, San Francisco, CA 94016\n",
       "186849            209 11th St, Atlanta, GA 30301\n",
       "Name: Purchase Address, Length: 185950, dtype: object"
      ]
     },
     "execution_count": 220,
     "metadata": {},
     "output_type": "execute_result"
    }
   ],
   "source": [
    "#affichage de la colone des adresse \n",
    "danew['Purchase Address']"
   ]
  },
  {
   "cell_type": "code",
   "execution_count": 222,
   "id": "376dc544-5873-42b8-a83a-7b441882b1e9",
   "metadata": {},
   "outputs": [],
   "source": [
    "#extraire la ville de la colone des adresse\n",
    "danew['Ville'] = danew['Purchase Address'].str.extract(r',\\s*(.+?),')"
   ]
  },
  {
   "cell_type": "code",
   "execution_count": 224,
   "id": "e361665c-6897-4488-8b65-e96416a96094",
   "metadata": {},
   "outputs": [
    {
     "data": {
      "text/plain": [
       "0         New York City\n",
       "1         New York City\n",
       "2         New York City\n",
       "3         San Francisco\n",
       "4               Atlanta\n",
       "              ...      \n",
       "186845           Boston\n",
       "186846    New York City\n",
       "186847    San Francisco\n",
       "186848    San Francisco\n",
       "186849          Atlanta\n",
       "Name: Ville, Length: 185950, dtype: object"
      ]
     },
     "execution_count": 224,
     "metadata": {},
     "output_type": "execute_result"
    }
   ],
   "source": [
    "#afficher la colone ville\n",
    "danew['Ville']"
   ]
  },
  {
   "cell_type": "code",
   "execution_count": 226,
   "id": "420a035e-516d-42e0-9a35-495a222caf2e",
   "metadata": {},
   "outputs": [
    {
     "data": {
      "text/plain": [
       "Ville\n",
       "San Francisco    44732\n",
       "Los Angeles      29605\n",
       "New York City    24876\n",
       "Boston           19934\n",
       "Atlanta          14881\n",
       "Dallas           14820\n",
       "Seattle          14732\n",
       "Portland         12465\n",
       "Austin            9905\n",
       "Name: count, dtype: int64"
      ]
     },
     "execution_count": 226,
     "metadata": {},
     "output_type": "execute_result"
    }
   ],
   "source": [
    "#compter le nbre de vente de produits pour chaque ville\n",
    "danew['Ville'].value_counts()"
   ]
  },
  {
   "cell_type": "code",
   "execution_count": 228,
   "id": "8bab2bae-f4e1-4a4b-a95e-262fde4eeb99",
   "metadata": {},
   "outputs": [
    {
     "name": "stdout",
     "output_type": "stream",
     "text": [
      "Ville avec le plus de ventes : San Francisco\n"
     ]
    }
   ],
   "source": [
    "#afficher la ville qui a plus de vente \n",
    "print(f\"Ville avec le plus de ventes : {danew['Ville'].value_counts().idxmax()}\")"
   ]
  },
  {
   "cell_type": "code",
   "execution_count": 230,
   "id": "83e009ed-8d41-44a7-9511-2ad7029155af",
   "metadata": {},
   "outputs": [
    {
     "name": "stdout",
     "output_type": "stream",
     "text": [
      "Order ID\n",
      "141234                        [iPhone]\n",
      "141235      [Lightning Charging Cable]\n",
      "141236              [Wired Headphones]\n",
      "141237              [27in FHD Monitor]\n",
      "141238              [Wired Headphones]\n",
      "                      ...             \n",
      "319666      [Lightning Charging Cable]\n",
      "319667         [AA Batteries (4-pack)]\n",
      "319668               [Vareebadd Phone]\n",
      "319669              [Wired Headphones]\n",
      "319670    [Bose SoundSport Headphones]\n",
      "Name: Product, Length: 178437, dtype: object\n"
     ]
    }
   ],
   "source": [
    "#afficher la liste des produits par index\n",
    "produitparindex=danew.groupby('Order ID')['Product'].apply(list)\n",
    "print(produitparindex)"
   ]
  },
  {
   "cell_type": "code",
   "execution_count": null,
   "id": "a19a6a2f-1ce3-488e-b565-2f281fe7250a",
   "metadata": {},
   "outputs": [],
   "source": []
  }
 ],
 "metadata": {
  "kernelspec": {
   "display_name": "Python [conda env:base] *",
   "language": "python",
   "name": "conda-base-py"
  },
  "language_info": {
   "codemirror_mode": {
    "name": "ipython",
    "version": 3
   },
   "file_extension": ".py",
   "mimetype": "text/x-python",
   "name": "python",
   "nbconvert_exporter": "python",
   "pygments_lexer": "ipython3",
   "version": "3.12.7"
  }
 },
 "nbformat": 4,
 "nbformat_minor": 5
}
